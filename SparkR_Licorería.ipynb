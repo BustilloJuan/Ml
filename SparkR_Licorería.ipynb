{
  "nbformat": 4,
  "nbformat_minor": 0,
  "metadata": {
    "colab": {
      "name": "SparkR-Licorería.ipynb",
      "provenance": [],
      "collapsed_sections": [],
      "authorship_tag": "ABX9TyPrlTQStR2Nb2C5ApI7V4d/",
      "include_colab_link": true
    },
    "kernelspec": {
      "name": "python3",
      "display_name": "Python 3"
    },
    "language_info": {
      "name": "python"
    }
  },
  "cells": [
    {
      "cell_type": "markdown",
      "metadata": {
        "id": "view-in-github",
        "colab_type": "text"
      },
      "source": [
        "<a href=\"https://colab.research.google.com/github/BustilloJuan/SparkR/blob/main/SparkR_Licorer%C3%ADa.ipynb\" target=\"_parent\"><img src=\"https://colab.research.google.com/assets/colab-badge.svg\" alt=\"Open In Colab\"/></a>"
      ]
    },
    {
      "cell_type": "markdown",
      "source": [
        "# Juan Fernández Bustillo"
      ],
      "metadata": {
        "id": "EPxMtJoQ_ETM"
      }
    },
    {
      "cell_type": "markdown",
      "source": [
        "# En esta primera parte vamos a cargar las librerías necesarias y el dataset sobre el que vamos a trabajar.\n",
        "\n",
        "\n"
      ],
      "metadata": {
        "id": "BTn9XeF4uXYr"
      }
    },
    {
      "cell_type": "code",
      "source": [
        "!apt-get install openjdk-8-jdk-headless --quiet > /dev/null"
      ],
      "metadata": {
        "id": "PqV_f2NdtO7S"
      },
      "execution_count": 1,
      "outputs": []
    },
    {
      "cell_type": "code",
      "source": [
        "!wget --quiet https://archive.apache.org/dist/spark/spark-3.2.1/spark-3.2.1-bin-hadoop3.2.tgz\n",
        "!tar xf spark-3.2.1-bin-hadoop3.2.tgz\n",
        "!rm spark-3.2.1-bin-hadoop3.2.tgz"
      ],
      "metadata": {
        "id": "RJgWcK4AtQ2a"
      },
      "execution_count": 2,
      "outputs": []
    },
    {
      "cell_type": "code",
      "source": [
        "%reload_ext rpy2.ipython"
      ],
      "metadata": {
        "id": "bmy_fOfStS2p"
      },
      "execution_count": 3,
      "outputs": []
    },
    {
      "cell_type": "code",
      "source": [
        "import os\n",
        "os.environ[\"JAVA_HOME\"] = \"/usr/lib/jvm/java-8-openjdk-amd64\"\n",
        "os.environ[\"SPARK_HOME\"] = \"/content/spark-3.2.1-bin-hadoop3.2\""
      ],
      "metadata": {
        "id": "SrhQ7qDvtWCf"
      },
      "execution_count": 4,
      "outputs": []
    },
    {
      "cell_type": "code",
      "source": [
        "%%R\n",
        "library(SparkR, lib.loc = c(file.path(Sys.getenv(\"SPARK_HOME\"), \"R\", \"lib\")))\n",
        "sparkR.session(master = \"local[*]\")"
      ],
      "metadata": {
        "colab": {
          "base_uri": "https://localhost:8080/"
        },
        "id": "QlA-XU4etYzw",
        "outputId": "1b25fb99-d99e-4967-fd8c-9982a646edb7"
      },
      "execution_count": 5,
      "outputs": [
        {
          "output_type": "stream",
          "name": "stderr",
          "text": [
            "R[write to console]: \n",
            "Attaching package: ‘SparkR’\n",
            "\n",
            "\n",
            "R[write to console]: The following objects are masked from ‘package:stats’:\n",
            "\n",
            "    cov, filter, lag, na.omit, predict, sd, var, window\n",
            "\n",
            "\n",
            "R[write to console]: The following objects are masked from ‘package:base’:\n",
            "\n",
            "    as.data.frame, colnames, colnames<-, drop, endsWith, intersect,\n",
            "    rank, rbind, sample, startsWith, subset, summary, transform, union\n",
            "\n",
            "\n",
            "R[write to console]: Spark package found in SPARK_HOME: /content/spark-3.2.1-bin-hadoop3.2\n",
            "\n"
          ]
        },
        {
          "output_type": "stream",
          "name": "stdout",
          "text": [
            "Launching java with spark-submit command /content/spark-3.2.1-bin-hadoop3.2/bin/spark-submit   sparkr-shell /tmp/Rtmp3s3zUb/backend_port48291be62a \n",
            "Java ref type org.apache.spark.sql.SparkSession id 1 \n"
          ]
        }
      ]
    },
    {
      "cell_type": "code",
      "source": [
        "from google.colab import files\n",
        "uploaded = files.upload()"
      ],
      "metadata": {
        "colab": {
          "resources": {
            "http://localhost:8080/nbextensions/google.colab/files.js": {
              "data": "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",
              "ok": true,
              "headers": [
                [
                  "content-type",
                  "application/javascript"
                ]
              ],
              "status": 200,
              "status_text": ""
            }
          },
          "base_uri": "https://localhost:8080/",
          "height": 74
        },
        "id": "lJnHbGmAtpwf",
        "outputId": "e81241b4-bab5-47f6-8d2e-760611ea554e"
      },
      "execution_count": 6,
      "outputs": [
        {
          "output_type": "display_data",
          "data": {
            "text/html": [
              "\n",
              "     <input type=\"file\" id=\"files-ed86b5e8-1843-489e-ada5-3e1c02434d3c\" name=\"files[]\" multiple disabled\n",
              "        style=\"border:none\" />\n",
              "     <output id=\"result-ed86b5e8-1843-489e-ada5-3e1c02434d3c\">\n",
              "      Upload widget is only available when the cell has been executed in the\n",
              "      current browser session. Please rerun this cell to enable.\n",
              "      </output>\n",
              "      <script src=\"/nbextensions/google.colab/files.js\"></script> "
            ],
            "text/plain": [
              "<IPython.core.display.HTML object>"
            ]
          },
          "metadata": {}
        },
        {
          "output_type": "stream",
          "name": "stdout",
          "text": [
            "Saving Iowa_Liquor_Sales5M_cleaned.csv to Iowa_Liquor_Sales5M_cleaned.csv\n"
          ]
        }
      ]
    },
    {
      "cell_type": "code",
      "source": [
        "%%R\n",
        "datos <- read.df(path=\"./Iowa_Liquor_Sales5M_cleaned.csv\", source = \"csv\", delimiter=\",\", inferSchema = \"true\", header = \"true\", na.strings = \"\")"
      ],
      "metadata": {
        "id": "zd2pyDosuO1p"
      },
      "execution_count": 7,
      "outputs": []
    },
    {
      "cell_type": "code",
      "source": [
        "%%R\n",
        "colnames(datos) #Visualizamos los nombres de las variables del dataset"
      ],
      "metadata": {
        "colab": {
          "base_uri": "https://localhost:8080/"
        },
        "id": "k_gSofzNugAD",
        "outputId": "7e02929a-b984-450e-889c-63ee008ec1a6"
      },
      "execution_count": 8,
      "outputs": [
        {
          "output_type": "stream",
          "name": "stdout",
          "text": [
            " [1] \"Invoice/Item Number\"   \"Date\"                  \"Store Number\"         \n",
            " [4] \"Store Name\"            \"Address\"               \"City\"                 \n",
            " [7] \"Zip Code\"              \"Store Location\"        \"County Number\"        \n",
            "[10] \"County\"                \"Category\"              \"Category Name\"        \n",
            "[13] \"Vendor Number\"         \"Vendor Name\"           \"Item Number\"          \n",
            "[16] \"Item Description\"      \"Pack\"                  \"Bottle Volume (ml)\"   \n",
            "[19] \"State Bottle Cost\"     \"State Bottle Retail\"   \"Bottles Sold\"         \n",
            "[22] \"Sale (Dollars)\"        \"Volume Sold (Liters)\"  \"Volume Sold (Gallons)\"\n"
          ]
        }
      ]
    },
    {
      "cell_type": "markdown",
      "source": [
        "## Ejercicio 1:\n",
        "Crear una columna llamada \"Dollars per liter\" que contenga cantidad de dólares que vale cada uno de los litros que se ha vendido. Para ello, se tiene que dividir el precio de venta\n",
        "(Sale (Dollars)) entre los litros vendidos (Volume Sold (Liters)) por cada fila. Mostrar por pantalla\n",
        "10 filas mostrando únicamente las columnas: \"Invoice/Item Number\" y \" Dollars per liter\".\n"
      ],
      "metadata": {
        "id": "Dgs641Zyv0-p"
      }
    },
    {
      "cell_type": "code",
      "source": [
        "%%R\n",
        "NuevoDF <- withColumn(datos, \"Dollars per liter\", datos$\"Sale (Dollars)\"/datos$\"Volume Sold (Liters)\" ) #Creamos la nueva columna"
      ],
      "metadata": {
        "id": "lxjgBPKIv331"
      },
      "execution_count": 9,
      "outputs": []
    },
    {
      "cell_type": "code",
      "source": [
        "%%R\n",
        "head(select(NuevoDF, \"Invoice/Item Number\",\"Dollars per liter\" ),10) #Mostramos los 10 primeros datos de esa nueva columna"
      ],
      "metadata": {
        "colab": {
          "base_uri": "https://localhost:8080/"
        },
        "id": "FPpV3svaxny-",
        "outputId": "944f58f2-f44e-418a-b23f-16b7a16ce131"
      },
      "execution_count": 10,
      "outputs": [
        {
          "output_type": "stream",
          "name": "stdout",
          "text": [
            "   Invoice/Item Number Dollars per liter\n",
            "1         S07596400023         16.986667\n",
            "2         S13735200244         28.125000\n",
            "3      INV-00047700020         17.994286\n",
            "4      INV-11830200010         29.986667\n",
            "5         S20150000021         15.680000\n",
            "6      INV-11360800053         27.180000\n",
            "7      INV-13465100013         19.920000\n",
            "8      INV-14079600051         28.340000\n",
            "9      INV-16352000017          5.931429\n",
            "10        S13463000012         41.160000\n"
          ]
        }
      ]
    },
    {
      "cell_type": "markdown",
      "source": [
        "## Ejericio 2:\n",
        " Se quiere conocer información sólo de las ventas de tequila y mezcal. Para ello, hay\n",
        "que obtener un conjunto de datos que contenga por cada venta tres columnas: (a) la categoría\n",
        "vendida (Category Name), que sólo puede ser tequila o mezcal, (2) la columna del nombre del\n",
        "vendedor (Vendor Name) que hizo la venta, y (3) el precio de la venta (Sale (Dollars)). Mostrar\n",
        "los primeros 10 primeros datos."
      ],
      "metadata": {
        "id": "uxNtxmIAyYfI"
      }
    },
    {
      "cell_type": "code",
      "source": [
        "%%R\n",
        "EJ2 <- select(datos, \"Category Name\", \"Vendor Name\", \"Sale (Dollars)\") #Nos quedamos solo con esas 3 columnas\n",
        "nrow(EJ2) #Para ver cuantas filas tiene el dataset"
      ],
      "metadata": {
        "colab": {
          "base_uri": "https://localhost:8080/"
        },
        "id": "fuqAZA9_yd-s",
        "outputId": "697da7b8-7c61-4cab-883a-4e5c5422531c"
      },
      "execution_count": 11,
      "outputs": [
        {
          "output_type": "stream",
          "name": "stdout",
          "text": [
            "[1] 17000\n"
          ]
        }
      ]
    },
    {
      "cell_type": "code",
      "source": [
        "%%R\n",
        "nombres <- unique(select(datos, \"Category Name\" )) #Para ver los diferentes niveles de la variable nombre de categoría\n",
        "#collect(nombres) #Para mostrarlos"
      ],
      "metadata": {
        "id": "JnwqkDzD0sy1"
      },
      "execution_count": 12,
      "outputs": []
    },
    {
      "cell_type": "code",
      "source": [
        "%%R\n",
        "Filtrado <- filter(EJ2, EJ2$\"Category Name\" == \"Mezcal\" | EJ2$\"Category Name\" == \"TEQUILA\" ) #Filtramos aquellos que se correspondan con mezcal o tequila solo.\n",
        "nrow(Filtrado) #Vemos sus filas para comprobar que hemos disminuido el tamaño."
      ],
      "metadata": {
        "colab": {
          "base_uri": "https://localhost:8080/"
        },
        "id": "tH_d_NDD2jQD",
        "outputId": "6aaf2c8d-42b3-40bf-a1cf-5fc29fc63c72"
      },
      "execution_count": 13,
      "outputs": [
        {
          "output_type": "stream",
          "name": "stdout",
          "text": [
            "[1] 509\n"
          ]
        }
      ]
    },
    {
      "cell_type": "code",
      "source": [
        "%%R\n",
        "head(Filtrado,10) #Simplemente mostramos los 10 primeros datos"
      ],
      "metadata": {
        "colab": {
          "base_uri": "https://localhost:8080/"
        },
        "id": "dDVW8S-v4J12",
        "outputId": "46160dc6-8986-4284-f2eb-5097e16a1070"
      },
      "execution_count": 14,
      "outputs": [
        {
          "output_type": "stream",
          "name": "stdout",
          "text": [
            "   Category Name                  Vendor Name Sale (Dollars)\n",
            "1        TEQUILA                      Proximo          17.25\n",
            "2        TEQUILA              Jim Beam Brands          16.53\n",
            "3        TEQUILA                      Proximo          15.74\n",
            "4        TEQUILA        Sazerac North America         252.72\n",
            "5        TEQUILA        Sazerac North America          59.64\n",
            "6        TEQUILA               Luxco-St Louis         622.80\n",
            "7        TEQUILA WILLIAM GRANT AND SONS, INC.          47.08\n",
            "8        TEQUILA                      Proximo          46.38\n",
            "9        TEQUILA   The Patron Spirits Company          12.75\n",
            "10       TEQUILA                      Proximo          34.50\n"
          ]
        }
      ]
    },
    {
      "cell_type": "markdown",
      "source": [
        "## Ejercicio 3:\n",
        "Obtener todos los condados (County) que aparecen en los datos y para cada uno de\n",
        "ellos obtener el número que tiene asociado (County Number). Posteriormente, ordenarlo de\n",
        "mayor a menor número de condado (orden descendente). Notar que no debería haber ningún\n",
        "condado duplicado, sino que se debe tener tantas filas como condados. Mostrar por pantalla 5\n",
        "filas mostrando únicamente las columnas County y “County Number”. \n"
      ],
      "metadata": {
        "id": "-a5Ytz0l4d98"
      }
    },
    {
      "cell_type": "code",
      "source": [
        "%%R\n",
        "condados <- unique(select(datos, \"County\" )) #Todos los condados, que serían 217, algunos aparecen con número \n",
        "#collect(condados)  #Para mostrarlos, en este caso no lo hago, ya que son muchos"
      ],
      "metadata": {
        "id": "dBk0wcof4nuH"
      },
      "execution_count": 45,
      "outputs": []
    },
    {
      "cell_type": "code",
      "source": [
        "%%R\n",
        "unicos<-unique(select(datos, \"County\",\"County Number\"))"
      ],
      "metadata": {
        "id": "4x8GyzB9DCgV"
      },
      "execution_count": 39,
      "outputs": []
    },
    {
      "cell_type": "markdown",
      "source": [
        "## En esta segunda visualización he visto que los condados representados por números tienen un número invalido \"allamake\", y se presenta un condado con <NA>, por ello voy a tratar de limpiar estos errores en los datos."
      ],
      "metadata": {
        "id": "rvFcSEwxDow9"
      }
    },
    {
      "cell_type": "markdown",
      "source": [
        "## He visto que había NA en los County, por ello elimino las filas que contengan NA de dicha columna. Al estar en valores únicos, logicamente es solo una fila.\n"
      ],
      "metadata": {
        "id": "v1aaVBqaBztY"
      }
    },
    {
      "cell_type": "code",
      "source": [
        "%%R\n",
        "SinNa <- dropna(datos, cols = \"County\") \n",
        "condados <- unique(select(SinNa, \"County\",\"County Number\" ))\n",
        "#collect(condados) #Una fila menos, por lo tanto lo ha realizado correctamente"
      ],
      "metadata": {
        "id": "INBy4rS3Baz4"
      },
      "execution_count": 50,
      "outputs": []
    },
    {
      "cell_type": "code",
      "source": [
        "%%R\n",
        "limpios <- filter(condados, condados$ \"County Number\" > 0) #Como había algunos errores en el County Number, \n",
        "#ya que apraceían cómo ALLAMAKEE, he decidido filtrar por mayor de 0 para quedarme con unos datos limpios.\n",
        "head(limpios)"
      ],
      "metadata": {
        "colab": {
          "base_uri": "https://localhost:8080/"
        },
        "id": "fTOyladnCjmS",
        "outputId": "a05bd336-a34e-4c1e-fd23-0647db083ea7"
      },
      "execution_count": 91,
      "outputs": [
        {
          "output_type": "stream",
          "name": "stdout",
          "text": [
            "     County County Number\n",
            "1    Benton             6\n",
            "2 ALLAMAKEE             3\n",
            "3    Greene            37\n",
            "4      Linn            57\n",
            "5  Buchanan            10\n",
            "6     Floyd            34\n"
          ]
        }
      ]
    },
    {
      "cell_type": "code",
      "source": [
        "%%R\n",
        "Minusculas <- select(limpios,lower(limpios$ \"County\"),limpios$\"County Number\") #Aquí lo que hago es pasa County a minúsculas\n",
        "head(Minusculas)"
      ],
      "metadata": {
        "colab": {
          "base_uri": "https://localhost:8080/"
        },
        "id": "Q4gqPUl7NAm5",
        "outputId": "b3124081-fe5a-48e1-e1c1-760438438a79"
      },
      "execution_count": 109,
      "outputs": [
        {
          "output_type": "stream",
          "name": "stdout",
          "text": [
            "  lower(County) County Number\n",
            "1        benton             6\n",
            "2     allamakee             3\n",
            "3        greene            37\n",
            "4          linn            57\n",
            "5      buchanan            10\n",
            "6         floyd            34\n"
          ]
        }
      ]
    },
    {
      "cell_type": "code",
      "source": [
        "%%R\n",
        "solos<-unique(select(Minusculas, \"lower(County)\", \"County Number\")) #Una vez pasado a minúsculas si hago el unique, quito los valores repetidos.\n",
        "head(solos)"
      ],
      "metadata": {
        "colab": {
          "base_uri": "https://localhost:8080/"
        },
        "id": "JV37BIcmWnkg",
        "outputId": "6529ce42-cd9b-45a7-982c-3dcdea897cb6"
      },
      "execution_count": 127,
      "outputs": [
        {
          "output_type": "stream",
          "name": "stdout",
          "text": [
            "  lower(County) County Number\n",
            "1         scott            82\n",
            "2       osceola            72\n",
            "3       carroll            14\n",
            "4         adair             1\n",
            "5    pocahontas            76\n",
            "6          iowa            48\n"
          ]
        }
      ]
    },
    {
      "cell_type": "code",
      "source": [
        "%%R\n",
        "Ej3<-arrange(solos,desc(solos$ \"County Number\")) #Ordenados de mayor a menor.\n",
        "head(Ej3,5)"
      ],
      "metadata": {
        "colab": {
          "base_uri": "https://localhost:8080/"
        },
        "id": "_V019Sb2N57Y",
        "outputId": "60ba5924-c2c0-4df8-93c1-9f5c95fed957"
      },
      "execution_count": 128,
      "outputs": [
        {
          "output_type": "stream",
          "name": "stdout",
          "text": [
            "  lower(County) County Number\n",
            "1        wright            99\n",
            "2         worth            98\n",
            "3      woodbury            97\n",
            "4    winneshiek            96\n",
            "5     winnebago            95\n"
          ]
        }
      ]
    },
    {
      "cell_type": "markdown",
      "source": [
        "## Ejercicio 4: \n",
        "¿Cuál es el vendedor (Vendor Name) que más litros (Volume Sold (Liters)) ha vendido en la ciudad (City) de Ottumwa? ¿Cuántos litros ha vendido ese vendedor en la ciudad?\n",
        "\n"
      ],
      "metadata": {
        "id": "Xw8nf4kAYGE4"
      }
    },
    {
      "cell_type": "code",
      "source": [
        "%%R\n",
        "EJ4 <- select(datos, \"Vendor Name\", \"Volume Sold (Liters)\", \"City\") #Selecciono las variables solicitadas \n",
        "head(EJ4)"
      ],
      "metadata": {
        "colab": {
          "base_uri": "https://localhost:8080/"
        },
        "id": "dR-6Kf_IYUkt",
        "outputId": "1ff764c1-fba9-4e6c-ba4b-a5c9bbba1c67"
      },
      "execution_count": 137,
      "outputs": [
        {
          "output_type": "stream",
          "name": "stdout",
          "text": [
            "         Vendor Name Volume Sold (Liters)       City\n",
            "1    Diageo Americas                 3.00     DURANT\n",
            "2    Diageo Americas                 1.12 BETTENDORF\n",
            "3    Jim Beam Brands                 1.75  Knoxville\n",
            "4  PERNOD RICARD USA                 1.50     Inwood\n",
            "5    Jim Beam Brands                 0.50  DAVENPORT\n",
            "6 Brown Forman Corp.                 0.50     Algona\n"
          ]
        }
      ]
    },
    {
      "cell_type": "code",
      "source": [
        "%%R\n",
        "Ottumwa <- filter(EJ4,EJ4$\"City\"==\"Ottumwa\") #Filtro por la ciudad pedida\n",
        "head(Ottumwa)"
      ],
      "metadata": {
        "colab": {
          "base_uri": "https://localhost:8080/"
        },
        "id": "R1tH2OJdZV-T",
        "outputId": "e4e436f4-422b-4201-8290-724b3db75f71"
      },
      "execution_count": 145,
      "outputs": [
        {
          "output_type": "stream",
          "name": "stdout",
          "text": [
            "               Vendor Name Volume Sold (Liters)    City\n",
            "1       Heaven Hill Brands                  6.0 Ottumwa\n",
            "2          Laird & Company                  1.5 Ottumwa\n",
            "3 CONSTELLATION BRANDS INC                  9.0 Ottumwa\n",
            "4          Jim Beam Brands                 12.0 Ottumwa\n",
            "5        PERNOD RICARD USA                  0.4 Ottumwa\n",
            "6          DIAGEO AMERICAS                  1.0 Ottumwa\n"
          ]
        }
      ]
    },
    {
      "cell_type": "code",
      "source": [
        "%%R\n",
        "Agregacion <- agg(groupBy(Ottumwa, Ottumwa$'Vendor Name'), \"Total\" = sum(Ottumwa$'Volume Sold (Liters)')) #Agregamos por la suma de las ventas\n",
        "collect(Agregacion)"
      ],
      "metadata": {
        "colab": {
          "base_uri": "https://localhost:8080/"
        },
        "id": "TY5fMmEOZ3Tb",
        "outputId": "dd711ee6-e0e4-40ee-b616-0c55cd206bdb"
      },
      "execution_count": 150,
      "outputs": [
        {
          "output_type": "stream",
          "name": "stdout",
          "text": [
            "                        Vendor Name  Total\n",
            "1  Constellation Wine Company, Inc.   9.60\n",
            "2                   BACARDI USA INC   2.00\n",
            "3                   Jim Beam Brands  13.75\n",
            "4  Pernod Ricard USA/Austin Nichols   0.38\n",
            "5                   Laird & Company  10.50\n",
            "6                Brown Forman Corp.  17.10\n",
            "7                 Phillips Beverage  30.00\n",
            "8                         LUXCO INC  17.75\n",
            "9                   DIAGEO AMERICAS 103.50\n",
            "10                   Gemini Spirits   4.50\n",
            "11            SAZERAC NORTH AMERICA  33.38\n",
            "12         CONSTELLATION BRANDS INC  27.75\n",
            "13               Heaven Hill Brands  25.50\n",
            "14               E & J Gallo Winery  12.00\n",
            "15             SAZERAC COMPANY  INC  36.53\n",
            "16           REMY COINTREAU USA INC   1.50\n",
            "17                PERNOD RICARD USA   5.65\n",
            "18                   Luxco-St Louis  21.00\n",
            "19                          PROXIMO  11.10\n"
          ]
        }
      ]
    },
    {
      "cell_type": "code",
      "source": [
        "%%R\n",
        "Ej4Final<-arrange(Agregacion,desc(Agregacion$ \"Total\")) #Ordenados de mayor a menor.\n",
        "head(Ej4Final,1)"
      ],
      "metadata": {
        "colab": {
          "base_uri": "https://localhost:8080/"
        },
        "id": "Q6lMp7dLb9pk",
        "outputId": "78b85e42-c0d5-404c-f755-7a37d6f23c60"
      },
      "execution_count": 151,
      "outputs": [
        {
          "output_type": "stream",
          "name": "stdout",
          "text": [
            "      Vendor Name Total\n",
            "1 DIAGEO AMERICAS 103.5\n"
          ]
        }
      ]
    }
  ]
}